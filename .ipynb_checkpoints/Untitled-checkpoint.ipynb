{
 "cells": [
  {
   "cell_type": "code",
   "execution_count": 16,
   "metadata": {},
   "outputs": [],
   "source": [
    "import pandas as pd\n",
    "import numpy as np\n",
    "import pymc3 as pm\n",
    "import arviz\n",
    "import matplotlib.pyplot as plt\n",
    "import theano.tensor as tt\n",
    "%matplotlib inline\n"
   ]
  },
  {
   "cell_type": "code",
   "execution_count": 2,
   "metadata": {},
   "outputs": [
    {
     "name": "stdout",
     "output_type": "stream",
     "text": [
      "<class 'pandas.core.frame.DataFrame'>\n",
      "RangeIndex: 500 entries, 0 to 499\n",
      "Data columns (total 6 columns):\n",
      " #   Column   Non-Null Count  Dtype  \n",
      "---  ------   --------------  -----  \n",
      " 0   Company  495 non-null    object \n",
      " 1   Region   495 non-null    object \n",
      " 2   Year     495 non-null    float64\n",
      " 3   EP       495 non-null    float64\n",
      " 4   Claims   495 non-null    float64\n",
      " 5   LR       495 non-null    float64\n",
      "dtypes: float64(4), object(2)\n",
      "memory usage: 23.6+ KB\n"
     ]
    }
   ],
   "source": [
    "data=pd.read_csv('PnC insurance industry LRs.csv')\n",
    "data.info()"
   ]
  },
  {
   "cell_type": "code",
   "execution_count": 3,
   "metadata": {},
   "outputs": [
    {
     "data": {
      "text/html": [
       "<div>\n",
       "<style scoped>\n",
       "    .dataframe tbody tr th:only-of-type {\n",
       "        vertical-align: middle;\n",
       "    }\n",
       "\n",
       "    .dataframe tbody tr th {\n",
       "        vertical-align: top;\n",
       "    }\n",
       "\n",
       "    .dataframe thead th {\n",
       "        text-align: right;\n",
       "    }\n",
       "</style>\n",
       "<table border=\"1\" class=\"dataframe\">\n",
       "  <thead>\n",
       "    <tr style=\"text-align: right;\">\n",
       "      <th></th>\n",
       "      <th>Company</th>\n",
       "      <th>Region</th>\n",
       "      <th>Year</th>\n",
       "      <th>EP</th>\n",
       "      <th>Claims</th>\n",
       "      <th>LR</th>\n",
       "    </tr>\n",
       "  </thead>\n",
       "  <tbody>\n",
       "    <tr>\n",
       "      <th>467</th>\n",
       "      <td>Wawanesa</td>\n",
       "      <td>Quebec</td>\n",
       "      <td>2016.0</td>\n",
       "      <td>73193.0</td>\n",
       "      <td>64687.0</td>\n",
       "      <td>0.8838</td>\n",
       "    </tr>\n",
       "    <tr>\n",
       "      <th>366</th>\n",
       "      <td>TD Insurance</td>\n",
       "      <td>Territories</td>\n",
       "      <td>2014.0</td>\n",
       "      <td>17929.0</td>\n",
       "      <td>8521.0</td>\n",
       "      <td>0.4753</td>\n",
       "    </tr>\n",
       "    <tr>\n",
       "      <th>477</th>\n",
       "      <td>Wawanesa</td>\n",
       "      <td>Territories</td>\n",
       "      <td>2015.0</td>\n",
       "      <td>7408.0</td>\n",
       "      <td>3233.0</td>\n",
       "      <td>0.4364</td>\n",
       "    </tr>\n",
       "    <tr>\n",
       "      <th>237</th>\n",
       "      <td>Intact</td>\n",
       "      <td>Ontario</td>\n",
       "      <td>2017.0</td>\n",
       "      <td>3400608.0</td>\n",
       "      <td>2449917.0</td>\n",
       "      <td>0.7204</td>\n",
       "    </tr>\n",
       "    <tr>\n",
       "      <th>348</th>\n",
       "      <td>TD Insurance</td>\n",
       "      <td>Ontario</td>\n",
       "      <td>2018.0</td>\n",
       "      <td>1686169.0</td>\n",
       "      <td>1219914.0</td>\n",
       "      <td>0.7235</td>\n",
       "    </tr>\n",
       "  </tbody>\n",
       "</table>\n",
       "</div>"
      ],
      "text/plain": [
       "          Company       Region    Year         EP     Claims      LR\n",
       "467      Wawanesa       Quebec  2016.0    73193.0    64687.0  0.8838\n",
       "366  TD Insurance  Territories  2014.0    17929.0     8521.0  0.4753\n",
       "477      Wawanesa  Territories  2015.0     7408.0     3233.0  0.4364\n",
       "237        Intact      Ontario  2017.0  3400608.0  2449917.0  0.7204\n",
       "348  TD Insurance      Ontario  2018.0  1686169.0  1219914.0  0.7235"
      ]
     },
     "execution_count": 3,
     "metadata": {},
     "output_type": "execute_result"
    }
   ],
   "source": [
    "data.sample(5)"
   ]
  },
  {
   "cell_type": "code",
   "execution_count": 5,
   "metadata": {},
   "outputs": [
    {
     "data": {
      "image/png": "[encoded data removed]",
      "text/plain": [
       "<Figure size 432x288 with 1 Axes>"
      ]
     },
     "metadata": {
      "needs_background": "light"
     },
     "output_type": "display_data"
    }
   ],
   "source": [
    "plt.scatter(np.log(data['EP']),data['LR'])\n",
    "plt.xlabel('log EP')\n",
    "plt.ylabel('LR')\n",
    "plt.title('LR vs log(EP)')\n",
    "plt.show()"
   ]
  },
  {
   "cell_type": "code",
   "execution_count": 10,
   "metadata": {},
   "outputs": [
    {
     "data": {
      "image/png": "[encoded data removed]",
      "text/plain": [
       "<Figure size 432x288 with 1 Axes>"
      ]
     },
     "metadata": {
      "needs_background": "light"
     },
     "output_type": "display_data"
    }
   ],
   "source": [
    "plt.hist(data['LR'],bins=50)\n",
    "plt.title('LR distribution - zero inflated normal?')\n",
    "plt.show()"
   ]
  },
  {
   "cell_type": "code",
   "execution_count": 19,
   "metadata": {},
   "outputs": [
    {
     "ename": "ImportError",
     "evalue": "This function requires the python library graphviz, along with binaries. The easiest way to install all of this is by running\n\n\tconda install -c conda-forge python-graphviz",
     "output_type": "error",
     "traceback": [
      "\u001b[0;31m---------------------------------------------------------------------------\u001b[0m",
      "\u001b[0;31mModuleNotFoundError\u001b[0m                       Traceback (most recent call last)",
      "\u001b[0;32m~/anaconda3/lib/python3.8/site-packages/pymc3/model_graph.py\u001b[0m in \u001b[0;36mmake_graph\u001b[0;34m(self, formatting)\u001b[0m\n\u001b[1;32m    192\u001b[0m         \u001b[0;32mtry\u001b[0m\u001b[0;34m:\u001b[0m\u001b[0;34m\u001b[0m\u001b[0;34m\u001b[0m\u001b[0m\n\u001b[0;32m--> 193\u001b[0;31m             \u001b[0;32mimport\u001b[0m \u001b[0mgraphviz\u001b[0m\u001b[0;34m\u001b[0m\u001b[0;34m\u001b[0m\u001b[0m\n\u001b[0m\u001b[1;32m    194\u001b[0m         \u001b[0;32mexcept\u001b[0m \u001b[0mImportError\u001b[0m\u001b[0;34m:\u001b[0m\u001b[0;34m\u001b[0m\u001b[0;34m\u001b[0m\u001b[0m\n",
      "\u001b[0;31mModuleNotFoundError\u001b[0m: No module named 'graphviz'",
      "\nDuring handling of the above exception, another exception occurred:\n",
      "\u001b[0;31mImportError\u001b[0m                               Traceback (most recent call last)",
      "\u001b[0;32m<ipython-input-19-eb811c3f8085>\u001b[0m in \u001b[0;36m<module>\u001b[0;34m\u001b[0m\n\u001b[1;32m     11\u001b[0m \u001b[0;34m\u001b[0m\u001b[0m\n\u001b[1;32m     12\u001b[0m \u001b[0;34m\u001b[0m\u001b[0m\n\u001b[0;32m---> 13\u001b[0;31m \u001b[0mpm\u001b[0m\u001b[0;34m.\u001b[0m\u001b[0mmodel_graph\u001b[0m\u001b[0;34m.\u001b[0m\u001b[0mmodel_to_graphviz\u001b[0m\u001b[0;34m(\u001b[0m\u001b[0mmodel_zero_inflated_normal\u001b[0m\u001b[0;34m)\u001b[0m\u001b[0;34m\u001b[0m\u001b[0;34m\u001b[0m\u001b[0m\n\u001b[0m",
      "\u001b[0;32m~/anaconda3/lib/python3.8/site-packages/pymc3/model_graph.py\u001b[0m in \u001b[0;36mmodel_to_graphviz\u001b[0;34m(model, formatting)\u001b[0m\n\u001b[1;32m    241\u001b[0m         \u001b[0;32mraise\u001b[0m \u001b[0mValueError\u001b[0m\u001b[0;34m(\u001b[0m\u001b[0;34mf\"Unsupported formatting for graph nodes: '{formatting}'. See docstring.\"\u001b[0m\u001b[0;34m)\u001b[0m\u001b[0;34m\u001b[0m\u001b[0;34m\u001b[0m\u001b[0m\n\u001b[1;32m    242\u001b[0m     \u001b[0mmodel\u001b[0m \u001b[0;34m=\u001b[0m \u001b[0mpm\u001b[0m\u001b[0;34m.\u001b[0m\u001b[0mmodelcontext\u001b[0m\u001b[0;34m(\u001b[0m\u001b[0mmodel\u001b[0m\u001b[0;34m)\u001b[0m\u001b[0;34m\u001b[0m\u001b[0;34m\u001b[0m\u001b[0m\n\u001b[0;32m--> 243\u001b[0;31m     \u001b[0;32mreturn\u001b[0m \u001b[0mModelGraph\u001b[0m\u001b[0;34m(\u001b[0m\u001b[0mmodel\u001b[0m\u001b[0;34m)\u001b[0m\u001b[0;34m.\u001b[0m\u001b[0mmake_graph\u001b[0m\u001b[0;34m(\u001b[0m\u001b[0mformatting\u001b[0m\u001b[0;34m=\u001b[0m\u001b[0mformatting\u001b[0m\u001b[0;34m)\u001b[0m\u001b[0;34m\u001b[0m\u001b[0;34m\u001b[0m\u001b[0m\n\u001b[0m",
      "\u001b[0;32m~/anaconda3/lib/python3.8/site-packages/pymc3/model_graph.py\u001b[0m in \u001b[0;36mmake_graph\u001b[0;34m(self, formatting)\u001b[0m\n\u001b[1;32m    193\u001b[0m             \u001b[0;32mimport\u001b[0m \u001b[0mgraphviz\u001b[0m\u001b[0;34m\u001b[0m\u001b[0;34m\u001b[0m\u001b[0m\n\u001b[1;32m    194\u001b[0m         \u001b[0;32mexcept\u001b[0m \u001b[0mImportError\u001b[0m\u001b[0;34m:\u001b[0m\u001b[0;34m\u001b[0m\u001b[0;34m\u001b[0m\u001b[0m\n\u001b[0;32m--> 195\u001b[0;31m             raise ImportError(\n\u001b[0m\u001b[1;32m    196\u001b[0m                 \u001b[0;34m\"This function requires the python library graphviz, along with binaries. \"\u001b[0m\u001b[0;34m\u001b[0m\u001b[0;34m\u001b[0m\u001b[0m\n\u001b[1;32m    197\u001b[0m                 \u001b[0;34m\"The easiest way to install all of this is by running\\n\\n\"\u001b[0m\u001b[0;34m\u001b[0m\u001b[0;34m\u001b[0m\u001b[0m\n",
      "\u001b[0;31mImportError\u001b[0m: This function requires the python library graphviz, along with binaries. The easiest way to install all of this is by running\n\n\tconda install -c conda-forge python-graphviz"
     ]
    }
   ],
   "source": [
    "with pm.Model() as model_zero_inflated_normal:\n",
    "    \n",
    "    p = pm.Dirichlet('p',np.array([1.,1.]),shape=2)\n",
    "    category = pm.Categorical('category',p=p,shape=len(data['LR']))\n",
    "    \n",
    "    mus = pm.Normal('mus',mu=0.,sigma=1.,shape=2)\n",
    "    sigmas = pm.Exponential('sigmas',[1.,1.],shape=2)\n",
    "    \n",
    "    order_means_potential = pm.Potential(\"order_means_potential\",tt.switch(mus[1] - mus[0] < 0, -np.inf, 0))\n",
    "    LRs = pm.Normal('LRs',mu=mus[category],sigma=sigmas[category],observed=data['LR'])\n",
    "\n",
    "        \n",
    "pm.model_graph.model_to_graphviz(model_zero_inflated_normal)"
   ]
  },
  {
   "cell_type": "code",
   "execution_count": null,
   "metadata": {},
   "outputs": [],
   "source": []
  },
  {
   "cell_type": "code",
   "execution_count": null,
   "metadata": {},
   "outputs": [],
   "source": []
  }
 ],
 "metadata": {
  "kernelspec": {
   "display_name": "Python 3",
   "language": "python",
   "name": "python3"
  },
  "language_info": {
   "codemirror_mode": {
    "name": "ipython",
    "version": 3
   },
   "file_extension": ".py",
   "mimetype": "text/x-python",
   "name": "python",
   "nbconvert_exporter": "python",
   "pygments_lexer": "ipython3",
   "version": "3.8.5"
  }
 },
 "nbformat": 4,
 "nbformat_minor": 5
}
